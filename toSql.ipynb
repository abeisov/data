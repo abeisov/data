{
 "cells": [
  {
   "cell_type": "code",
   "execution_count": 2,
   "id": "6f8d160c-0da5-4c4b-8896-9dd358020123",
   "metadata": {},
   "outputs": [
    {
     "name": "stdout",
     "output_type": "stream",
     "text": [
      "                       time  latitude  longitude   depth   mag magType   nst  \\\n",
      "0  2023-01-01T00:49:25.294Z   52.0999   178.5218  82.770  3.10      ml  14.0   \n",
      "1  2023-01-01T01:41:43.755Z    7.1397   126.7380  79.194  4.50      mb  32.0   \n",
      "2  2023-01-01T03:29:31.070Z   19.1631   -66.5251  24.000  3.93      md  23.0   \n",
      "3  2023-01-01T04:09:32.814Z   -4.7803   102.7675  63.787  4.30      mb  17.0   \n",
      "4  2023-01-01T04:29:13.793Z   53.3965  -166.9417  10.000  3.00      ml  19.0   \n",
      "\n",
      "     gap    dmin   rms  ...                   updated  \\\n",
      "0  139.0  0.8700  0.18  ...  2023-03-11T22:51:52.040Z   \n",
      "1  104.0  1.1520  0.47  ...  2023-03-11T22:51:45.040Z   \n",
      "2  246.0  0.8479  0.22  ...  2023-03-11T22:51:29.040Z   \n",
      "3  187.0  0.4570  0.51  ...  2023-03-11T22:51:45.040Z   \n",
      "4  190.0  0.4000  0.31  ...  2023-03-11T22:51:38.040Z   \n",
      "\n",
      "                                   place        type horizontalError  \\\n",
      "0  Rat Islands, Aleutian Islands, Alaska  earthquake            8.46   \n",
      "1        23 km ESE of Manay, Philippines  earthquake            5.51   \n",
      "2                     Puerto Rico region  earthquake            0.91   \n",
      "3     99 km SSW of Pagar Alam, Indonesia  earthquake           10.25   \n",
      "4          59 km SSW of Unalaska, Alaska  earthquake            1.41   \n",
      "\n",
      "  depthError  magError  magNst    status  locationSource magSource  \n",
      "0     21.213     0.097    14.0  reviewed              us        us  \n",
      "1      7.445     0.083    43.0  reviewed              us        us  \n",
      "2     15.950     0.090    16.0  reviewed              pr        pr  \n",
      "3      6.579     0.238     5.0  reviewed              us        us  \n",
      "4      1.999     0.085    18.0  reviewed              us        us  \n",
      "\n",
      "[5 rows x 22 columns]\n"
     ]
    }
   ],
   "source": [
    "import pandas as pd\n",
    "import sqlite3\n",
    "\n",
    "file_path = 'earthquakes_2023_global.csv' \n",
    "earthquake_data = pd.read_csv(file_path)\n",
    "conn = sqlite3.connect('earthquakes.db') \n",
    "earthquake_data.to_sql('earthquakes', conn, if_exists='replace', index=False)\n",
    "query = \"SELECT * FROM earthquakes\"\n",
    "earthquake_data_from_db = pd.read_sql_query(query, conn)\n",
    "conn.close()\n",
    "print(earthquake_data_from_db.head())\n",
    "\n",
    "\n"
   ]
  },
  {
   "cell_type": "code",
   "execution_count": null,
   "id": "0f5b1cba-652f-48f0-90d8-31dd1c251651",
   "metadata": {},
   "outputs": [],
   "source": []
  }
 ],
 "metadata": {
  "kernelspec": {
   "display_name": "Python 3 (ipykernel)",
   "language": "python",
   "name": "python3"
  },
  "language_info": {
   "codemirror_mode": {
    "name": "ipython",
    "version": 3
   },
   "file_extension": ".py",
   "mimetype": "text/x-python",
   "name": "python",
   "nbconvert_exporter": "python",
   "pygments_lexer": "ipython3",
   "version": "3.11.7"
  }
 },
 "nbformat": 4,
 "nbformat_minor": 5
}
